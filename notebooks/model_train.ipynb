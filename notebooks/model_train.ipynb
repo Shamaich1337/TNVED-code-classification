{
 "cells": [
  {
   "cell_type": "code",
   "execution_count": 1,
   "metadata": {},
   "outputs": [],
   "source": [
    "import pandas as pd\n",
    "import torch\n",
    "import numpy as np\n",
    "import matplotlib.pyplot  as plt\n",
    "from sklearn.model_selection import train_test_split\n",
    "from sklearn.metrics import classification_report\n",
    "from sklearn.utils.class_weight import compute_class_weight\n",
    "from sklearn.preprocessing import LabelEncoder\n",
    "from transformers import AutoTokenizer\n",
    "from torch.utils.data import DataLoader\n",
    "from transformers import AutoModelForSequenceClassification\n",
    "from torch.optim import AdamW\n",
    "from torch.nn import CrossEntropyLoss\n",
    "from tqdm import tqdm"
   ]
  },
  {
   "cell_type": "markdown",
   "metadata": {},
   "source": [
    "Загружаем готовый csv с описанием компонента и энкодированным ТНВЭД кодом"
   ]
  },
  {
   "cell_type": "code",
   "execution_count": 2,
   "metadata": {},
   "outputs": [],
   "source": [
    "data = pd.read_csv('data\\\\data.csv')"
   ]
  },
  {
   "cell_type": "markdown",
   "metadata": {},
   "source": [
    "Посмотрим на распределение объектов по 85 классам:"
   ]
  },
  {
   "cell_type": "code",
   "execution_count": 3,
   "metadata": {},
   "outputs": [
    {
     "data": {
      "image/png": "[encoded data removed]",
      "text/plain": [
       "<Figure size 640x480 with 1 Axes>"
      ]
     },
     "metadata": {},
     "output_type": "display_data"
    },
    {
     "name": "stdout",
     "output_type": "stream",
     "text": [
      "TNVED_encoded\n",
      "72    2247\n",
      "46     910\n",
      "37     789\n",
      "35     645\n",
      "51     571\n",
      "      ... \n",
      "55       8\n",
      "59       6\n",
      "3        5\n",
      "0        3\n",
      "2        1\n",
      "Name: count, Length: 84, dtype: int64\n"
     ]
    }
   ],
   "source": [
    "data['TNVED_encoded'].hist(bins=85)\n",
    "plt.show()\n",
    "print(data['TNVED_encoded'].value_counts())"
   ]
  },
  {
   "cell_type": "markdown",
   "metadata": {},
   "source": [
    "Формируем выборки и токенизируем текст"
   ]
  },
  {
   "cell_type": "code",
   "execution_count": 4,
   "metadata": {},
   "outputs": [],
   "source": [
    "X = data['text'].to_list()\n",
    "y = data['TNVED_encoded'].to_list()\n",
    "\n",
    "X_train, X_temp, y_train, y_temp = train_test_split(\n",
    "   X, y, test_size=0.3, random_state=42)\n",
    "\n",
    "X_val, X_test, y_val, y_test = train_test_split(\n",
    "    X_temp, y_temp, test_size=0.5, random_state=42)\n",
    "\n",
    "tokenizer = AutoTokenizer.from_pretrained(\"distilbert-base-uncased\")\n",
    "\n",
    "train_encodings = tokenizer(X_train, truncation=True, padding=True, max_length=128)\n",
    "val_encodings = tokenizer(X_val, truncation=True, padding=True, max_length=128)\n",
    "test_encodings = tokenizer(X_test, truncation=True, padding=True, max_length=128)\n"
   ]
  },
  {
   "cell_type": "markdown",
   "metadata": {},
   "source": [
    "Собираем датасеты и даталоудеры"
   ]
  },
  {
   "cell_type": "code",
   "execution_count": 5,
   "metadata": {},
   "outputs": [],
   "source": [
    "\n",
    "\n",
    "class CustomDataset(torch.utils.data.Dataset):\n",
    "    def __init__(self, encodings, labels):\n",
    "        self.encodings = encodings\n",
    "        self.labels = labels\n",
    "\n",
    "    def __getitem__(self, idx):\n",
    "        item = {key: torch.tensor(val[idx]) for key, val in self.encodings.items()}\n",
    "        item['labels'] = torch.tensor(self.labels[idx])\n",
    "        return item\n",
    "\n",
    "    def __len__(self):\n",
    "        return len(self.labels)\n",
    "\n",
    "train_dataset = CustomDataset(train_encodings, y_train)\n",
    "val_dataset = CustomDataset(val_encodings, y_val)\n",
    "test_dataset = CustomDataset(test_encodings, y_test)\n",
    "\n",
    "\n",
    "\n",
    "train_loader = DataLoader(train_dataset, batch_size=16, shuffle=True)\n",
    "val_loader = DataLoader(val_dataset, batch_size=16, shuffle=False)\n",
    "test_loader = DataLoader(test_dataset, batch_size=16, shuffle=False)\n"
   ]
  },
  {
   "cell_type": "code",
   "execution_count": 6,
   "metadata": {},
   "outputs": [
    {
     "name": "stderr",
     "output_type": "stream",
     "text": [
      "Some weights of DistilBertForSequenceClassification were not initialized from the model checkpoint at distilbert-base-uncased and are newly initialized: ['classifier.bias', 'classifier.weight', 'pre_classifier.bias', 'pre_classifier.weight']\n",
      "You should probably TRAIN this model on a down-stream task to be able to use it for predictions and inference.\n"
     ]
    },
    {
     "data": {
      "text/plain": [
       "DistilBertForSequenceClassification(\n",
       "  (distilbert): DistilBertModel(\n",
       "    (embeddings): Embeddings(\n",
       "      (word_embeddings): Embedding(30522, 768, padding_idx=0)\n",
       "      (position_embeddings): Embedding(512, 768)\n",
       "      (LayerNorm): LayerNorm((768,), eps=1e-12, elementwise_affine=True)\n",
       "      (dropout): Dropout(p=0.1, inplace=False)\n",
       "    )\n",
       "    (transformer): Transformer(\n",
       "      (layer): ModuleList(\n",
       "        (0-5): 6 x TransformerBlock(\n",
       "          (attention): DistilBertSdpaAttention(\n",
       "            (dropout): Dropout(p=0.1, inplace=False)\n",
       "            (q_lin): Linear(in_features=768, out_features=768, bias=True)\n",
       "            (k_lin): Linear(in_features=768, out_features=768, bias=True)\n",
       "            (v_lin): Linear(in_features=768, out_features=768, bias=True)\n",
       "            (out_lin): Linear(in_features=768, out_features=768, bias=True)\n",
       "          )\n",
       "          (sa_layer_norm): LayerNorm((768,), eps=1e-12, elementwise_affine=True)\n",
       "          (ffn): FFN(\n",
       "            (dropout): Dropout(p=0.1, inplace=False)\n",
       "            (lin1): Linear(in_features=768, out_features=3072, bias=True)\n",
       "            (lin2): Linear(in_features=3072, out_features=768, bias=True)\n",
       "            (activation): GELUActivation()\n",
       "          )\n",
       "          (output_layer_norm): LayerNorm((768,), eps=1e-12, elementwise_affine=True)\n",
       "        )\n",
       "      )\n",
       "    )\n",
       "  )\n",
       "  (pre_classifier): Linear(in_features=768, out_features=768, bias=True)\n",
       "  (classifier): Linear(in_features=768, out_features=84, bias=True)\n",
       "  (dropout): Dropout(p=0.2, inplace=False)\n",
       ")"
      ]
     },
     "execution_count": 6,
     "metadata": {},
     "output_type": "execute_result"
    }
   ],
   "source": [
    "model = AutoModelForSequenceClassification.from_pretrained(\"distilbert-base-uncased\", num_labels=84)\n",
    "\n",
    "device = ('cuda' if torch.cuda.is_available() else 'cpu')\n",
    "model.to(device)"
   ]
  },
  {
   "cell_type": "code",
   "execution_count": 7,
   "metadata": {},
   "outputs": [],
   "source": [
    "optimizer = AdamW(model.parameters(), lr=2e-5)\n",
    "\n",
    "class_weights = compute_class_weight(class_weight='balanced', classes=np.unique(y), y=y)\n",
    "class_weights = torch.tensor(class_weights, dtype=torch.float).to(device)\n",
    "criterion = CrossEntropyLoss(weight=class_weights)\n",
    "\n",
    "def train_epoch(model, data_loader, optimizer, device):\n",
    "    model.train()\n",
    "    total_loss = 0\n",
    "    for batch in tqdm(data_loader, desc=\"Training\"):\n",
    "        input_ids = batch['input_ids'].to(device)\n",
    "        attention_mask = batch['attention_mask'].to(device)\n",
    "        labels = batch['labels'].to(device)\n",
    "        optimizer.zero_grad()\n",
    "        outputs = model(input_ids=input_ids, attention_mask=attention_mask, labels=labels)\n",
    "        logits = outputs.logits\n",
    "        loss = criterion(logits,labels)\n",
    "        loss.backward()\n",
    "        optimizer.step()\n",
    "        total_loss += loss.item()\n",
    "    return total_loss / len(data_loader)\n",
    "\n",
    "\n",
    "def validate_model(model, data_loader, device):\n",
    "    model.eval()\n",
    "    total_loss = 0\n",
    "    with torch.no_grad():\n",
    "        for batch in tqdm(data_loader, desc=\"Evaluating\"):\n",
    "            input_ids = batch['input_ids'].to(device)\n",
    "            attention_mask = batch['attention_mask'].to(device)\n",
    "            labels = batch['labels'].to(device)\n",
    "            outputs = model(input_ids=input_ids, attention_mask=attention_mask, labels=labels)\n",
    "            logits = outputs.logits\n",
    "            loss = criterion(logits,labels)\n",
    "            total_loss += loss.item()\n",
    "    return total_loss / len(data_loader)\n",
    "\n",
    "def evaluate_model(model, data_loader, device):\n",
    "    model.eval()\n",
    "    y_true, y_pred = [], []\n",
    "    with torch.no_grad():\n",
    "        for batch in tqdm(data_loader, desc=\"Evaluating\"):\n",
    "            input_ids = batch['input_ids'].to(device)\n",
    "            attention_mask = batch['attention_mask'].to(device)\n",
    "            labels = batch['labels'].to(device)\n",
    "            outputs = model(input_ids=input_ids, attention_mask=attention_mask)\n",
    "            logits = outputs.logits\n",
    "            preds = torch.argmax(logits, dim=-1)\n",
    "            y_true.extend(labels.cpu().numpy())\n",
    "            y_pred.extend(preds.cpu().numpy())\n",
    "    return classification_report(y_true=y_true, y_pred=y_pred, labels=range(85))\n",
    "\n",
    "\n",
    "\n"
   ]
  },
  {
   "cell_type": "code",
   "execution_count": 8,
   "metadata": {},
   "outputs": [
    {
     "name": "stdout",
     "output_type": "stream",
     "text": [
      "Epoch 1\n"
     ]
    },
    {
     "name": "stderr",
     "output_type": "stream",
     "text": [
      "Training: 100%|██████████| 434/434 [03:16<00:00,  2.21it/s]\n"
     ]
    },
    {
     "name": "stdout",
     "output_type": "stream",
     "text": [
      "Average Loss: 3.8604982393677885\n"
     ]
    },
    {
     "name": "stderr",
     "output_type": "stream",
     "text": [
      "Evaluating: 100%|██████████| 93/93 [00:15<00:00,  5.83it/s]\n"
     ]
    },
    {
     "name": "stdout",
     "output_type": "stream",
     "text": [
      "Validation Loss: 3.0427749977316907\n",
      "Epoch 2\n"
     ]
    },
    {
     "name": "stderr",
     "output_type": "stream",
     "text": [
      "Training: 100%|██████████| 434/434 [03:18<00:00,  2.19it/s]\n"
     ]
    },
    {
     "name": "stdout",
     "output_type": "stream",
     "text": [
      "Average Loss: 2.4592593026600675\n"
     ]
    },
    {
     "name": "stderr",
     "output_type": "stream",
     "text": [
      "Evaluating: 100%|██████████| 93/93 [00:15<00:00,  5.91it/s]\n"
     ]
    },
    {
     "name": "stdout",
     "output_type": "stream",
     "text": [
      "Validation Loss: 1.8964021269993117\n",
      "Epoch 3\n"
     ]
    },
    {
     "name": "stderr",
     "output_type": "stream",
     "text": [
      "Training: 100%|██████████| 434/434 [03:20<00:00,  2.17it/s]\n"
     ]
    },
    {
     "name": "stdout",
     "output_type": "stream",
     "text": [
      "Average Loss: 1.542585368804668\n"
     ]
    },
    {
     "name": "stderr",
     "output_type": "stream",
     "text": [
      "Evaluating: 100%|██████████| 93/93 [00:15<00:00,  5.92it/s]\n"
     ]
    },
    {
     "name": "stdout",
     "output_type": "stream",
     "text": [
      "Validation Loss: 1.2491773799542458\n",
      "Epoch 4\n"
     ]
    },
    {
     "name": "stderr",
     "output_type": "stream",
     "text": [
      "Training: 100%|██████████| 434/434 [03:20<00:00,  2.16it/s]\n"
     ]
    },
    {
     "name": "stdout",
     "output_type": "stream",
     "text": [
      "Average Loss: 0.9913998044306233\n"
     ]
    },
    {
     "name": "stderr",
     "output_type": "stream",
     "text": [
      "Evaluating: 100%|██████████| 93/93 [00:15<00:00,  5.87it/s]\n"
     ]
    },
    {
     "name": "stdout",
     "output_type": "stream",
     "text": [
      "Validation Loss: 0.9259789983431498\n",
      "Epoch 5\n"
     ]
    },
    {
     "name": "stderr",
     "output_type": "stream",
     "text": [
      "Training: 100%|██████████| 434/434 [03:20<00:00,  2.16it/s]\n"
     ]
    },
    {
     "name": "stdout",
     "output_type": "stream",
     "text": [
      "Average Loss: 0.6667011192386052\n"
     ]
    },
    {
     "name": "stderr",
     "output_type": "stream",
     "text": [
      "Evaluating: 100%|██████████| 93/93 [00:15<00:00,  5.88it/s]\n"
     ]
    },
    {
     "name": "stdout",
     "output_type": "stream",
     "text": [
      "Validation Loss: 0.7327475113573895\n",
      "Epoch 6\n"
     ]
    },
    {
     "name": "stderr",
     "output_type": "stream",
     "text": [
      "Training: 100%|██████████| 434/434 [03:21<00:00,  2.16it/s]\n"
     ]
    },
    {
     "name": "stdout",
     "output_type": "stream",
     "text": [
      "Average Loss: 0.44883954528427344\n"
     ]
    },
    {
     "name": "stderr",
     "output_type": "stream",
     "text": [
      "Evaluating: 100%|██████████| 93/93 [00:15<00:00,  5.95it/s]\n"
     ]
    },
    {
     "name": "stdout",
     "output_type": "stream",
     "text": [
      "Validation Loss: 0.6403483270957906\n",
      "Epoch 7\n"
     ]
    },
    {
     "name": "stderr",
     "output_type": "stream",
     "text": [
      "Training: 100%|██████████| 434/434 [03:21<00:00,  2.15it/s]\n"
     ]
    },
    {
     "name": "stdout",
     "output_type": "stream",
     "text": [
      "Average Loss: 0.3064695886563733\n"
     ]
    },
    {
     "name": "stderr",
     "output_type": "stream",
     "text": [
      "Evaluating: 100%|██████████| 93/93 [00:15<00:00,  5.91it/s]\n"
     ]
    },
    {
     "name": "stdout",
     "output_type": "stream",
     "text": [
      "Validation Loss: 0.5516464147035793\n",
      "Epoch 8\n"
     ]
    },
    {
     "name": "stderr",
     "output_type": "stream",
     "text": [
      "Training: 100%|██████████| 434/434 [03:21<00:00,  2.15it/s]\n"
     ]
    },
    {
     "name": "stdout",
     "output_type": "stream",
     "text": [
      "Average Loss: 0.20683348051825975\n"
     ]
    },
    {
     "name": "stderr",
     "output_type": "stream",
     "text": [
      "Evaluating: 100%|██████████| 93/93 [00:15<00:00,  5.91it/s]\n"
     ]
    },
    {
     "name": "stdout",
     "output_type": "stream",
     "text": [
      "Validation Loss: 0.5477591208632915\n",
      "Epoch 9\n"
     ]
    },
    {
     "name": "stderr",
     "output_type": "stream",
     "text": [
      "Training: 100%|██████████| 434/434 [03:21<00:00,  2.16it/s]\n"
     ]
    },
    {
     "name": "stdout",
     "output_type": "stream",
     "text": [
      "Average Loss: 0.1552946421957236\n"
     ]
    },
    {
     "name": "stderr",
     "output_type": "stream",
     "text": [
      "Evaluating: 100%|██████████| 93/93 [00:15<00:00,  5.91it/s]\n"
     ]
    },
    {
     "name": "stdout",
     "output_type": "stream",
     "text": [
      "Validation Loss: 0.46969778711597127\n",
      "Epoch 10\n"
     ]
    },
    {
     "name": "stderr",
     "output_type": "stream",
     "text": [
      "Training: 100%|██████████| 434/434 [03:21<00:00,  2.16it/s]\n"
     ]
    },
    {
     "name": "stdout",
     "output_type": "stream",
     "text": [
      "Average Loss: 0.11278923555418918\n"
     ]
    },
    {
     "name": "stderr",
     "output_type": "stream",
     "text": [
      "Evaluating: 100%|██████████| 93/93 [00:15<00:00,  5.97it/s]\n"
     ]
    },
    {
     "name": "stdout",
     "output_type": "stream",
     "text": [
      "Validation Loss: 0.5318537664509588\n",
      "Epoch 11\n"
     ]
    },
    {
     "name": "stderr",
     "output_type": "stream",
     "text": [
      "Training: 100%|██████████| 434/434 [03:20<00:00,  2.16it/s]\n"
     ]
    },
    {
     "name": "stdout",
     "output_type": "stream",
     "text": [
      "Average Loss: 0.09333743715512863\n"
     ]
    },
    {
     "name": "stderr",
     "output_type": "stream",
     "text": [
      "Evaluating: 100%|██████████| 93/93 [00:15<00:00,  5.94it/s]\n"
     ]
    },
    {
     "name": "stdout",
     "output_type": "stream",
     "text": [
      "Validation Loss: 0.5112977033400888\n",
      "Epoch 12\n"
     ]
    },
    {
     "name": "stderr",
     "output_type": "stream",
     "text": [
      "Training: 100%|██████████| 434/434 [03:20<00:00,  2.16it/s]\n"
     ]
    },
    {
     "name": "stdout",
     "output_type": "stream",
     "text": [
      "Average Loss: 0.06840593625752744\n"
     ]
    },
    {
     "name": "stderr",
     "output_type": "stream",
     "text": [
      "Evaluating: 100%|██████████| 93/93 [00:15<00:00,  5.94it/s]\n"
     ]
    },
    {
     "name": "stdout",
     "output_type": "stream",
     "text": [
      "Validation Loss: 0.4734157392935407\n",
      "Epoch 13\n"
     ]
    },
    {
     "name": "stderr",
     "output_type": "stream",
     "text": [
      "Training: 100%|██████████| 434/434 [03:20<00:00,  2.17it/s]\n"
     ]
    },
    {
     "name": "stdout",
     "output_type": "stream",
     "text": [
      "Average Loss: 0.04613961536257017\n"
     ]
    },
    {
     "name": "stderr",
     "output_type": "stream",
     "text": [
      "Evaluating: 100%|██████████| 93/93 [00:15<00:00,  5.94it/s]"
     ]
    },
    {
     "name": "stdout",
     "output_type": "stream",
     "text": [
      "Validation Loss: 0.49557076677960415\n",
      "!===Early stopping===!\n"
     ]
    },
    {
     "name": "stderr",
     "output_type": "stream",
     "text": [
      "\n"
     ]
    }
   ],
   "source": [
    "best_val_loss = float('inf')\n",
    "patience = 3\n",
    "trigger_count = 0\n",
    "for epoch in range(20):\n",
    "    print(f\"Epoch {epoch + 1}\")\n",
    "    avg_loss = train_epoch(model, train_loader, optimizer, device)\n",
    "    print(f\"Average Loss: {avg_loss}\")\n",
    "\n",
    "    val_loss = validate_model(model, val_loader, device)\n",
    "    print(f\"Validation Loss: {val_loss}\")\n",
    "\n",
    "    if val_loss < best_val_loss:\n",
    "        best_val_loss = val_loss\n",
    "        trigger_count = 0\n",
    "        model.save_pretrained(\"best_model_distilbert\")\n",
    "        \n",
    "    else: \n",
    "        trigger_count+=1\n",
    "        if trigger_count>patience: \n",
    "            print('!===Early stopping===!')\n",
    "            break\n",
    "\n",
    "\n",
    "    "
   ]
  },
  {
   "cell_type": "code",
   "execution_count": 9,
   "metadata": {},
   "outputs": [
    {
     "name": "stderr",
     "output_type": "stream",
     "text": [
      "Evaluating: 100%|██████████| 93/93 [00:15<00:00,  5.94it/s]"
     ]
    },
    {
     "name": "stdout",
     "output_type": "stream",
     "text": [
      "              precision    recall  f1-score   support\n",
      "\n",
      "           0       0.00      0.00      0.00         0\n",
      "           1       0.67      0.80      0.73         5\n",
      "           2       0.00      0.00      0.00         0\n",
      "           3       0.00      0.00      0.00         1\n",
      "           4       0.50      1.00      0.67         2\n",
      "           5       1.00      0.75      0.86         4\n",
      "           6       1.00      0.86      0.92         7\n",
      "           7       1.00      0.67      0.80         3\n",
      "           8       0.60      1.00      0.75         3\n",
      "           9       0.75      0.86      0.80         7\n",
      "          10       0.50      1.00      0.67         1\n",
      "          11       0.80      0.86      0.83        14\n",
      "          12       0.50      1.00      0.67         1\n",
      "          13       0.96      0.92      0.94        26\n",
      "          14       1.00      0.98      0.99        47\n",
      "          15       0.67      1.00      0.80         2\n",
      "          16       0.00      0.00      0.00         1\n",
      "          17       0.00      0.00      0.00         0\n",
      "          18       1.00      1.00      1.00         2\n",
      "          19       1.00      0.88      0.93         8\n",
      "          20       0.67      0.67      0.67         3\n",
      "          21       1.00      1.00      1.00         3\n",
      "          22       1.00      1.00      1.00         8\n",
      "          23       0.00      0.00      0.00         1\n",
      "          24       1.00      0.67      0.80         3\n",
      "          25       0.80      0.80      0.80         5\n",
      "          26       0.67      1.00      0.80         2\n",
      "          27       1.00      1.00      1.00         9\n",
      "          28       0.94      1.00      0.97        17\n",
      "          29       0.00      0.00      0.00         1\n",
      "          30       0.00      0.00      0.00         0\n",
      "          31       0.75      1.00      0.86         3\n",
      "          32       1.00      1.00      1.00        17\n",
      "          33       0.97      0.97      0.97        35\n",
      "          34       0.00      0.00      0.00         2\n",
      "          35       1.00      1.00      1.00        82\n",
      "          36       0.75      0.90      0.82        10\n",
      "          37       1.00      0.99      1.00       123\n",
      "          38       0.00      0.00      0.00         0\n",
      "          39       1.00      0.88      0.93        16\n",
      "          40       1.00      1.00      1.00         4\n",
      "          41       0.83      1.00      0.91         5\n",
      "          42       1.00      1.00      1.00         5\n",
      "          43       0.50      0.67      0.57         3\n",
      "          44       1.00      0.60      0.75         5\n",
      "          45       0.82      0.82      0.82        11\n",
      "          46       0.91      0.83      0.87       145\n",
      "          47       0.58      0.71      0.64        35\n",
      "          48       1.00      0.57      0.73         7\n",
      "          49       0.74      0.76      0.75        38\n",
      "          50       0.00      0.00      0.00         1\n",
      "          51       0.97      0.88      0.92        96\n",
      "          52       0.69      0.58      0.63        19\n",
      "          53       0.82      0.96      0.89        49\n",
      "          54       1.00      1.00      1.00         2\n",
      "          55       0.00      0.00      0.00         0\n",
      "          56       1.00      1.00      1.00        12\n",
      "          57       1.00      1.00      1.00         4\n",
      "          58       0.82      1.00      0.90        14\n",
      "          59       0.00      0.00      0.00         1\n",
      "          60       0.00      0.00      0.00         0\n",
      "          61       1.00      0.86      0.92        21\n",
      "          62       1.00      1.00      1.00        22\n",
      "          63       1.00      0.75      0.86         4\n",
      "          64       0.33      1.00      0.50         1\n",
      "          65       0.75      1.00      0.86         3\n",
      "          66       0.78      1.00      0.88         7\n",
      "          67       1.00      0.80      0.89         5\n",
      "          68       1.00      0.86      0.92         7\n",
      "          69       1.00      1.00      1.00         5\n",
      "          70       0.95      0.98      0.97        64\n",
      "          71       0.92      0.92      0.92        36\n",
      "          72       0.98      0.96      0.97       331\n",
      "          73       0.62      1.00      0.76         8\n",
      "          74       1.00      0.75      0.86         4\n",
      "          75       0.50      1.00      0.67         2\n",
      "          76       1.00      1.00      1.00         7\n",
      "          77       0.00      0.00      0.00         0\n",
      "          78       0.50      1.00      0.67         2\n",
      "          79       1.00      0.80      0.89         5\n",
      "          80       1.00      1.00      1.00         3\n",
      "          81       0.89      1.00      0.94         8\n",
      "          82       1.00      0.88      0.93         8\n",
      "          83       1.00      1.00      1.00         5\n",
      "          84       0.00      0.00      0.00         0\n",
      "\n",
      "    accuracy                           0.91      1488\n",
      "   macro avg       0.70      0.73      0.70      1488\n",
      "weighted avg       0.93      0.91      0.92      1488\n",
      "\n"
     ]
    },
    {
     "name": "stderr",
     "output_type": "stream",
     "text": [
      "\n",
      "c:\\Users\\Shamaich\\AppData\\Local\\Programs\\Python\\Python312\\Lib\\site-packages\\sklearn\\metrics\\_classification.py:1565: UndefinedMetricWarning: Precision is ill-defined and being set to 0.0 in labels with no predicted samples. Use `zero_division` parameter to control this behavior.\n",
      "  _warn_prf(average, modifier, f\"{metric.capitalize()} is\", len(result))\n",
      "c:\\Users\\Shamaich\\AppData\\Local\\Programs\\Python\\Python312\\Lib\\site-packages\\sklearn\\metrics\\_classification.py:1565: UndefinedMetricWarning: Recall is ill-defined and being set to 0.0 in labels with no true samples. Use `zero_division` parameter to control this behavior.\n",
      "  _warn_prf(average, modifier, f\"{metric.capitalize()} is\", len(result))\n",
      "c:\\Users\\Shamaich\\AppData\\Local\\Programs\\Python\\Python312\\Lib\\site-packages\\sklearn\\metrics\\_classification.py:1565: UndefinedMetricWarning: F-score is ill-defined and being set to 0.0 in labels with no true nor predicted samples. Use `zero_division` parameter to control this behavior.\n",
      "  _warn_prf(average, modifier, f\"{metric.capitalize()} is\", len(result))\n",
      "c:\\Users\\Shamaich\\AppData\\Local\\Programs\\Python\\Python312\\Lib\\site-packages\\sklearn\\metrics\\_classification.py:1565: UndefinedMetricWarning: Precision is ill-defined and being set to 0.0 in labels with no predicted samples. Use `zero_division` parameter to control this behavior.\n",
      "  _warn_prf(average, modifier, f\"{metric.capitalize()} is\", len(result))\n",
      "c:\\Users\\Shamaich\\AppData\\Local\\Programs\\Python\\Python312\\Lib\\site-packages\\sklearn\\metrics\\_classification.py:1565: UndefinedMetricWarning: Recall is ill-defined and being set to 0.0 in labels with no true samples. Use `zero_division` parameter to control this behavior.\n",
      "  _warn_prf(average, modifier, f\"{metric.capitalize()} is\", len(result))\n",
      "c:\\Users\\Shamaich\\AppData\\Local\\Programs\\Python\\Python312\\Lib\\site-packages\\sklearn\\metrics\\_classification.py:1565: UndefinedMetricWarning: F-score is ill-defined and being set to 0.0 in labels with no true nor predicted samples. Use `zero_division` parameter to control this behavior.\n",
      "  _warn_prf(average, modifier, f\"{metric.capitalize()} is\", len(result))\n",
      "c:\\Users\\Shamaich\\AppData\\Local\\Programs\\Python\\Python312\\Lib\\site-packages\\sklearn\\metrics\\_classification.py:1565: UndefinedMetricWarning: Precision is ill-defined and being set to 0.0 in labels with no predicted samples. Use `zero_division` parameter to control this behavior.\n",
      "  _warn_prf(average, modifier, f\"{metric.capitalize()} is\", len(result))\n",
      "c:\\Users\\Shamaich\\AppData\\Local\\Programs\\Python\\Python312\\Lib\\site-packages\\sklearn\\metrics\\_classification.py:1565: UndefinedMetricWarning: Recall is ill-defined and being set to 0.0 in labels with no true samples. Use `zero_division` parameter to control this behavior.\n",
      "  _warn_prf(average, modifier, f\"{metric.capitalize()} is\", len(result))\n",
      "c:\\Users\\Shamaich\\AppData\\Local\\Programs\\Python\\Python312\\Lib\\site-packages\\sklearn\\metrics\\_classification.py:1565: UndefinedMetricWarning: F-score is ill-defined and being set to 0.0 in labels with no true nor predicted samples. Use `zero_division` parameter to control this behavior.\n",
      "  _warn_prf(average, modifier, f\"{metric.capitalize()} is\", len(result))\n"
     ]
    }
   ],
   "source": [
    "\n",
    "report_distill_bert = evaluate_model(model, test_loader, device)\n",
    "print(report_distill_bert)\n"
   ]
  },
  {
   "cell_type": "markdown",
   "metadata": {},
   "source": [
    "                 precision    recall  f1-score   support\n",
    "\n",
    "           0       0.00      0.00      0.00         0\n",
    "           1       0.67      0.80      0.73         5\n",
    "           2       0.00      0.00      0.00         0\n",
    "           3       0.00      0.00      0.00         1\n",
    "           4       0.50      1.00      0.67         2\n",
    "           5       1.00      0.75      0.86         4\n",
    "           6       1.00      0.86      0.92         7\n",
    "           7       1.00      0.67      0.80         3\n",
    "           8       0.60      1.00      0.75         3\n",
    "           9       0.75      0.86      0.80         7\n",
    "          10       0.50      1.00      0.67         1\n",
    "          11       0.80      0.86      0.83        14\n",
    "          12       0.50      1.00      0.67         1\n",
    "          13       0.96      0.92      0.94        26\n",
    "          14       1.00      0.98      0.99        47\n",
    "          15       0.67      1.00      0.80         2\n",
    "          16       0.00      0.00      0.00         1\n",
    "          17       0.00      0.00      0.00         0\n",
    "          18       1.00      1.00      1.00         2\n",
    "          19       1.00      0.88      0.93         8\n",
    "          20       0.67      0.67      0.67         3\n",
    "          21       1.00      1.00      1.00         3\n",
    "          22       1.00      1.00      1.00         8\n",
    "          23       0.00      0.00      0.00         1\n",
    "          24       1.00      0.67      0.80         3\n",
    "          25       0.80      0.80      0.80         5\n",
    "          26       0.67      1.00      0.80         2\n",
    "          27       1.00      1.00      1.00         9\n",
    "          28       0.94      1.00      0.97        17\n",
    "          29       0.00      0.00      0.00         1\n",
    "          30       0.00      0.00      0.00         0\n",
    "          31       0.75      1.00      0.86         3\n",
    "          32       1.00      1.00      1.00        17\n",
    "          33       0.97      0.97      0.97        35\n",
    "          34       0.00      0.00      0.00         2\n",
    "          35       1.00      1.00      1.00        82\n",
    "          36       0.75      0.90      0.82        10\n",
    "          37       1.00      0.99      1.00       123\n",
    "          38       0.00      0.00      0.00         0\n",
    "          39       1.00      0.88      0.93        16\n",
    "          40       1.00      1.00      1.00         4\n",
    "          41       0.83      1.00      0.91         5\n",
    "          42       1.00      1.00      1.00         5\n",
    "          43       0.50      0.67      0.57         3\n",
    "          44       1.00      0.60      0.75         5\n",
    "          45       0.82      0.82      0.82        11\n",
    "          46       0.91      0.83      0.87       145\n",
    "          47       0.58      0.71      0.64        35\n",
    "          48       1.00      0.57      0.73         7\n",
    "          49       0.74      0.76      0.75        38\n",
    "          50       0.00      0.00      0.00         1\n",
    "          51       0.97      0.88      0.92        96\n",
    "          52       0.69      0.58      0.63        19\n",
    "          53       0.82      0.96      0.89        49\n",
    "          54       1.00      1.00      1.00         2\n",
    "          55       0.00      0.00      0.00         0\n",
    "          56       1.00      1.00      1.00        12\n",
    "          57       1.00      1.00      1.00         4\n",
    "          58       0.82      1.00      0.90        14\n",
    "          59       0.00      0.00      0.00         1\n",
    "          60       0.00      0.00      0.00         0\n",
    "          61       1.00      0.86      0.92        21\n",
    "          62       1.00      1.00      1.00        22\n",
    "          63       1.00      0.75      0.86         4\n",
    "          64       0.33      1.00      0.50         1\n",
    "          65       0.75      1.00      0.86         3\n",
    "          66       0.78      1.00      0.88         7\n",
    "          67       1.00      0.80      0.89         5\n",
    "          68       1.00      0.86      0.92         7\n",
    "          69       1.00      1.00      1.00         5\n",
    "          70       0.95      0.98      0.97        64\n",
    "          71       0.92      0.92      0.92        36\n",
    "          72       0.98      0.96      0.97       331\n",
    "          73       0.62      1.00      0.76         8\n",
    "          74       1.00      0.75      0.86         4\n",
    "          75       0.50      1.00      0.67         2\n",
    "          76       1.00      1.00      1.00         7\n",
    "          77       0.00      0.00      0.00         0\n",
    "          78       0.50      1.00      0.67         2\n",
    "          79       1.00      0.80      0.89         5\n",
    "          80       1.00      1.00      1.00         3\n",
    "          81       0.89      1.00      0.94         8\n",
    "          82       1.00      0.88      0.93         8\n",
    "          83       1.00      1.00      1.00         5\n",
    "          84       0.00      0.00      0.00         0\n",
    "\n",
    "    accuracy                           0.91      1488\n",
    "    macro avg      0.70      0.73      0.70      1488\n",
    "    weighted avg   0.93      0.91      0.92      1488\n",
    "\n"
   ]
  }
 ],
 "metadata": {
  "kernelspec": {
   "display_name": "Python 3",
   "language": "python",
   "name": "python3"
  },
  "language_info": {
   "codemirror_mode": {
    "name": "ipython",
    "version": 3
   },
   "file_extension": ".py",
   "mimetype": "text/x-python",
   "name": "python",
   "nbconvert_exporter": "python",
   "pygments_lexer": "ipython3",
   "version": "3.12.2"
  }
 },
 "nbformat": 4,
 "nbformat_minor": 2
}
