{
 "cells": [
  {
   "cell_type": "code",
   "execution_count": 13,
   "metadata": {},
   "outputs": [],
   "source": [
    "import pandas as pd\n",
    "import os\n",
    "import re\n",
    "from sklearn.preprocessing import LabelEncoder"
   ]
  },
  {
   "cell_type": "code",
   "execution_count": 14,
   "metadata": {},
   "outputs": [
    {
     "name": "stdout",
     "output_type": "stream",
     "text": [
      "               part_num       manufacturer       TNVED  \\\n",
      "count             12346              12346       12346   \n",
      "unique            12076                698          87   \n",
      "top     AT90CAN128-16AU  TEXAS INSTRUMENTS  8542399010   \n",
      "freq                  3                995        2676   \n",
      "\n",
      "                      concat_str  \\\n",
      "count                      12346   \n",
      "unique                     12342   \n",
      "top     KB-H15-25PN-XP KINGBRITE   \n",
      "freq                           2   \n",
      "\n",
      "                                                  path_ds  \\\n",
      "count                                               12346   \n",
      "unique                                              12346   \n",
      "top     M:\\DataSheet\\d76e3861-23b6-11ed-96e5-f8bc12505...   \n",
      "freq                                                    1   \n",
      "\n",
      "                                     id_path  \n",
      "count                                  12346  \n",
      "unique                                 12346  \n",
      "top     d76e3861-23b6-11ed-96e5-f8bc12505841  \n",
      "freq                                       1  \n"
     ]
    },
    {
     "data": {
      "text/html": [
       "<div>\n",
       "<style scoped>\n",
       "    .dataframe tbody tr th:only-of-type {\n",
       "        vertical-align: middle;\n",
       "    }\n",
       "\n",
       "    .dataframe tbody tr th {\n",
       "        vertical-align: top;\n",
       "    }\n",
       "\n",
       "    .dataframe thead th {\n",
       "        text-align: right;\n",
       "    }\n",
       "</style>\n",
       "<table border=\"1\" class=\"dataframe\">\n",
       "  <thead>\n",
       "    <tr style=\"text-align: right;\">\n",
       "      <th></th>\n",
       "      <th>part_num</th>\n",
       "      <th>manufacturer</th>\n",
       "      <th>TNVED</th>\n",
       "      <th>concat_str</th>\n",
       "      <th>path_ds</th>\n",
       "      <th>id_path</th>\n",
       "    </tr>\n",
       "  </thead>\n",
       "  <tbody>\n",
       "    <tr>\n",
       "      <th>0</th>\n",
       "      <td>XC7K410T-2FFG900I</td>\n",
       "      <td>XILINX</td>\n",
       "      <td>8542399010</td>\n",
       "      <td>XC7K410T-2FFG900I XILINX</td>\n",
       "      <td>M:\\DataSheet\\d76e3861-23b6-11ed-96e5-f8bc12505...</td>\n",
       "      <td>d76e3861-23b6-11ed-96e5-f8bc12505841</td>\n",
       "    </tr>\n",
       "    <tr>\n",
       "      <th>1</th>\n",
       "      <td>NC7WZ04P6X</td>\n",
       "      <td>ON SEMICONDUCTOR</td>\n",
       "      <td>8542399010</td>\n",
       "      <td>NC7WZ04P6X ON SEMICONDUCTOR</td>\n",
       "      <td>M:\\DataSheet\\b09bd526-4a32-11ed-96e6-f8bc12505...</td>\n",
       "      <td>b09bd526-4a32-11ed-96e6-f8bc12505841</td>\n",
       "    </tr>\n",
       "    <tr>\n",
       "      <th>2</th>\n",
       "      <td>ADUM1401ARWZ</td>\n",
       "      <td>ANALOG DEVICES</td>\n",
       "      <td>8542399010</td>\n",
       "      <td>ADUM1401ARWZ ANALOG DEVICES</td>\n",
       "      <td>M:\\DataSheet\\2ff0bfb5-6804-11ee-96f4-f8bc12505...</td>\n",
       "      <td>2ff0bfb5-6804-11ee-96f4-f8bc12505841</td>\n",
       "    </tr>\n",
       "    <tr>\n",
       "      <th>3</th>\n",
       "      <td>GCM155R71C104KA55D</td>\n",
       "      <td>MURATA ELECTRONICS</td>\n",
       "      <td>8532240000</td>\n",
       "      <td>GCM155R71C104KA55D MURATA ELECTRONICS</td>\n",
       "      <td>M:\\DataSheet\\8436bcbb-4a18-11ed-96e6-f8bc12505...</td>\n",
       "      <td>8436bcbb-4a18-11ed-96e6-f8bc12505841</td>\n",
       "    </tr>\n",
       "    <tr>\n",
       "      <th>4</th>\n",
       "      <td>ADA4898-1YRDZ</td>\n",
       "      <td>ANALOG DEVICES</td>\n",
       "      <td>8542339000</td>\n",
       "      <td>ADA4898-1YRDZ ANALOG DEVICES</td>\n",
       "      <td>M:\\DataSheet\\cb8a2892-ddc2-11ed-96f0-f8bc12505...</td>\n",
       "      <td>cb8a2892-ddc2-11ed-96f0-f8bc12505841</td>\n",
       "    </tr>\n",
       "  </tbody>\n",
       "</table>\n",
       "</div>"
      ],
      "text/plain": [
       "             part_num        manufacturer       TNVED  \\\n",
       "0   XC7K410T-2FFG900I              XILINX  8542399010   \n",
       "1          NC7WZ04P6X    ON SEMICONDUCTOR  8542399010   \n",
       "2        ADUM1401ARWZ      ANALOG DEVICES  8542399010   \n",
       "3  GCM155R71C104KA55D  MURATA ELECTRONICS  8532240000   \n",
       "4       ADA4898-1YRDZ      ANALOG DEVICES  8542339000   \n",
       "\n",
       "                              concat_str  \\\n",
       "0               XC7K410T-2FFG900I XILINX   \n",
       "1            NC7WZ04P6X ON SEMICONDUCTOR   \n",
       "2            ADUM1401ARWZ ANALOG DEVICES   \n",
       "3  GCM155R71C104KA55D MURATA ELECTRONICS   \n",
       "4           ADA4898-1YRDZ ANALOG DEVICES   \n",
       "\n",
       "                                             path_ds  \\\n",
       "0  M:\\DataSheet\\d76e3861-23b6-11ed-96e5-f8bc12505...   \n",
       "1  M:\\DataSheet\\b09bd526-4a32-11ed-96e6-f8bc12505...   \n",
       "2  M:\\DataSheet\\2ff0bfb5-6804-11ee-96f4-f8bc12505...   \n",
       "3  M:\\DataSheet\\8436bcbb-4a18-11ed-96e6-f8bc12505...   \n",
       "4  M:\\DataSheet\\cb8a2892-ddc2-11ed-96f0-f8bc12505...   \n",
       "\n",
       "                                id_path  \n",
       "0  d76e3861-23b6-11ed-96e5-f8bc12505841  \n",
       "1  b09bd526-4a32-11ed-96e6-f8bc12505841  \n",
       "2  2ff0bfb5-6804-11ee-96f4-f8bc12505841  \n",
       "3  8436bcbb-4a18-11ed-96e6-f8bc12505841  \n",
       "4  cb8a2892-ddc2-11ed-96f0-f8bc12505841  "
      ]
     },
     "execution_count": 14,
     "metadata": {},
     "output_type": "execute_result"
    }
   ],
   "source": [
    "raw_data = pd.read_csv('data\\\\df_clear_uniq_3.csv')\n",
    "print(raw_data.describe())\n",
    "raw_data.head()"
   ]
  },
  {
   "cell_type": "markdown",
   "metadata": {},
   "source": [
    "Пропишем путь до даташитов корректно\n",
    "\n",
    "Посмотрим сколько всего битых строк, которые ссылаются на несуществующие даташиты.\n"
   ]
  },
  {
   "cell_type": "code",
   "execution_count": 15,
   "metadata": {},
   "outputs": [
    {
     "name": "stdout",
     "output_type": "stream",
     "text": [
      "path_ds example: data\\datasheets\\d76e3861-23b6-11ed-96e5-f8bc12505841.txt\n"
     ]
    },
    {
     "data": {
      "text/plain": [
       "file_exists\n",
       "True     10152\n",
       "False     2194\n",
       "Name: count, dtype: int64"
      ]
     },
     "execution_count": 15,
     "metadata": {},
     "output_type": "execute_result"
    }
   ],
   "source": [
    "datasheet_path = 'data\\\\datasheets'\n",
    "\n",
    "raw_data['path_ds'] = raw_data['id_path'].apply(lambda x: os.path.join(datasheet_path, f'{x}.txt'))\n",
    "print(f'path_ds example: {raw_data['path_ds'][0]}')  # проверяем что путь рапарсился как ожидается\n",
    "raw_data['file_exists'] = raw_data['path_ds'].apply(lambda x: os.path.exists(x))\n",
    "raw_data['file_exists'].value_counts()\n"
   ]
  },
  {
   "cell_type": "markdown",
   "metadata": {},
   "source": [
    "около 17% битых строк - удаляем. Без суммаризации они бесполезны"
   ]
  },
  {
   "cell_type": "code",
   "execution_count": 16,
   "metadata": {},
   "outputs": [
    {
     "data": {
      "text/html": [
       "<div>\n",
       "<style scoped>\n",
       "    .dataframe tbody tr th:only-of-type {\n",
       "        vertical-align: middle;\n",
       "    }\n",
       "\n",
       "    .dataframe tbody tr th {\n",
       "        vertical-align: top;\n",
       "    }\n",
       "\n",
       "    .dataframe thead th {\n",
       "        text-align: right;\n",
       "    }\n",
       "</style>\n",
       "<table border=\"1\" class=\"dataframe\">\n",
       "  <thead>\n",
       "    <tr style=\"text-align: right;\">\n",
       "      <th></th>\n",
       "      <th>part_num</th>\n",
       "      <th>manufacturer</th>\n",
       "      <th>TNVED</th>\n",
       "      <th>concat_str</th>\n",
       "      <th>path_ds</th>\n",
       "      <th>id_path</th>\n",
       "    </tr>\n",
       "  </thead>\n",
       "  <tbody>\n",
       "    <tr>\n",
       "      <th>count</th>\n",
       "      <td>10152</td>\n",
       "      <td>10152</td>\n",
       "      <td>10152</td>\n",
       "      <td>10152</td>\n",
       "      <td>10152</td>\n",
       "      <td>10152</td>\n",
       "    </tr>\n",
       "    <tr>\n",
       "      <th>unique</th>\n",
       "      <td>9963</td>\n",
       "      <td>632</td>\n",
       "      <td>85</td>\n",
       "      <td>10149</td>\n",
       "      <td>10152</td>\n",
       "      <td>10152</td>\n",
       "    </tr>\n",
       "    <tr>\n",
       "      <th>top</th>\n",
       "      <td>1.5SMC6.8CA</td>\n",
       "      <td>TEXAS INSTRUMENTS</td>\n",
       "      <td>8542399010</td>\n",
       "      <td>HY820M400Y350A00T CAPXON</td>\n",
       "      <td>data\\datasheets\\d76e3861-23b6-11ed-96e5-f8bc12...</td>\n",
       "      <td>d76e3861-23b6-11ed-96e5-f8bc12505841</td>\n",
       "    </tr>\n",
       "    <tr>\n",
       "      <th>freq</th>\n",
       "      <td>3</td>\n",
       "      <td>869</td>\n",
       "      <td>2247</td>\n",
       "      <td>2</td>\n",
       "      <td>1</td>\n",
       "      <td>1</td>\n",
       "    </tr>\n",
       "  </tbody>\n",
       "</table>\n",
       "</div>"
      ],
      "text/plain": [
       "           part_num       manufacturer       TNVED                concat_str  \\\n",
       "count         10152              10152       10152                     10152   \n",
       "unique         9963                632          85                     10149   \n",
       "top     1.5SMC6.8CA  TEXAS INSTRUMENTS  8542399010  HY820M400Y350A00T CAPXON   \n",
       "freq              3                869        2247                         2   \n",
       "\n",
       "                                                  path_ds  \\\n",
       "count                                               10152   \n",
       "unique                                              10152   \n",
       "top     data\\datasheets\\d76e3861-23b6-11ed-96e5-f8bc12...   \n",
       "freq                                                    1   \n",
       "\n",
       "                                     id_path  \n",
       "count                                  10152  \n",
       "unique                                 10152  \n",
       "top     d76e3861-23b6-11ed-96e5-f8bc12505841  \n",
       "freq                                       1  "
      ]
     },
     "execution_count": 16,
     "metadata": {},
     "output_type": "execute_result"
    }
   ],
   "source": [
    "raw_data = raw_data.drop(raw_data[~raw_data['file_exists']].index)\n",
    "raw_data = raw_data.drop(columns=['file_exists'])\n",
    "raw_data.describe()"
   ]
  },
  {
   "cell_type": "markdown",
   "metadata": {},
   "source": [
    "Удалим класс other без ТН ВЭД кода"
   ]
  },
  {
   "cell_type": "code",
   "execution_count": 17,
   "metadata": {},
   "outputs": [],
   "source": [
    "raw_data = raw_data.drop(raw_data[raw_data['TNVED']=='other'].index)\n"
   ]
  },
  {
   "cell_type": "markdown",
   "metadata": {},
   "source": [
    "Регулярное выражение ниже ищет слова из списка:\n",
    "- Description\n",
    "- Component Description\n",
    "- Description of the Component\n",
    "- General Description\n",
    "- Product Description.\n",
    "\n",
    "проверяет что следущий за ключевым словом текст начинается с The(the)\n",
    "\n",
    "захватывает весь текст до следующих ключевых слов:\n",
    "- Key Specifications\n",
    "- Typical Applications\n"
   ]
  },
  {
   "cell_type": "code",
   "execution_count": 18,
   "metadata": {},
   "outputs": [
    {
     "name": "stdout",
     "output_type": "stream",
     "text": [
      "The Aliner 20-001A0-T is a precision SMA straight jack connector designed for microwave applications. It features a robust construction with gold plating for enhanced conductivity and corrosion resistance. This connector is ideal for high-frequency signal transmission, making it suitable for various RF and microwave applications.\n"
     ]
    }
   ],
   "source": [
    "def extract_description(text):\n",
    "    # удаление специальных символов (#, *, \\b)\n",
    "    cleaned_text = re.sub(r\"[#\\*\\b]\", \"\", text)\n",
    "    \n",
    "    \n",
    "    pattern = re.compile(\n",
    "        r\"(?i)(?:Description|Component Description|Description of the Component|General Description|Product Description)\\s*:?\\s*([tT]he[\\s\\S]*?)(?=Key Specifications|Typical Applications|$)\",\n",
    "        re.IGNORECASE\n",
    "    )\n",
    "    \n",
    "   \n",
    "    match = pattern.search(cleaned_text)\n",
    "    if match:\n",
    "        return match.group(1).strip()  # возвращаем захваченный текст\n",
    "    return None\n",
    "\n",
    "def read_summ(file_path):\n",
    "    try:\n",
    "        with open(file_path, encoding='utf-8') as file:\n",
    "            text = file.read()\n",
    "        description = extract_description(text)\n",
    "        return description\n",
    "    except Exception as exc:\n",
    "        return None\n",
    "  \n",
    "    \n",
    "\n",
    "test = raw_data['path_ds'][173]\n",
    "description = read_summ(test)\n",
    "print(description)\n",
    "\n"
   ]
  },
  {
   "cell_type": "code",
   "execution_count": 19,
   "metadata": {},
   "outputs": [],
   "source": [
    "raw_data['description'] = (raw_data['path_ds']).apply(read_summ)"
   ]
  },
  {
   "cell_type": "markdown",
   "metadata": {},
   "source": [
    "Те 60 None, которые остались это нерелевантный ответ gpt по типу: \"а сделай суммаризацию сам, вот тебе инструкция\".\n",
    "\n",
    "Их удаляем"
   ]
  },
  {
   "cell_type": "code",
   "execution_count": 20,
   "metadata": {},
   "outputs": [
    {
     "name": "stdout",
     "output_type": "stream",
     "text": [
      "description\n",
      "False    9920\n",
      "True       44\n",
      "Name: count, dtype: int64\n",
      "1623     ef85cbcf-905f-11ee-96f7-f8bc12505841\n",
      "3142     4e965255-2332-11ef-96f9-f8bc12505841\n",
      "3237     93b98ab7-d9f8-11ee-96f7-f8bc12505841\n",
      "3634     773b2750-2265-11ef-96f9-f8bc12505841\n",
      "3708     3f742ca0-10f4-11ef-96f7-f8bc12505841\n",
      "3720     68b65ac3-021b-11ef-96f7-f8bc12505841\n",
      "3721     4ef5639a-021b-11ef-96f7-f8bc12505841\n",
      "5202     91dd3ba0-e200-11ee-96f7-f8bc12505841\n",
      "6038     e4fc7d2a-ebf0-11ec-96e1-f8bc12505841\n",
      "6047     75c987ce-a0cb-11ee-96f7-f8bc12505841\n",
      "6048     75c98776-a0cb-11ee-96f7-f8bc12505841\n",
      "6147     d7eb8b4a-5228-11ee-96f3-f8bc12505841\n",
      "6148     104ca5a7-52e2-11ee-96f4-f8bc12505841\n",
      "6756     43a477de-97f4-11ee-96f7-f8bc12505841\n",
      "6935     54c56300-34ea-11ed-96e6-f8bc12505841\n",
      "7296     abb63433-5d25-11ee-96f4-f8bc12505841\n",
      "7360     d2a4487d-a581-11ee-96f7-f8bc12505841\n",
      "7637     f614fc02-7257-11ee-96f6-f8bc12505841\n",
      "7995     60850ca7-e06a-11ee-96f7-f8bc12505841\n",
      "8220     5bd0d87d-2ae8-11ee-96f2-f8bc12505841\n",
      "8270     e20930d3-55ed-11ee-96f4-f8bc12505841\n",
      "8288     b297690c-ad28-11ed-96ed-f8bc12505841\n",
      "8821     376e785f-0397-11ee-96f1-f8bc12505841\n",
      "8825     d1af4837-0e74-11ee-96f2-f8bc12505841\n",
      "8914     61c00b44-ec68-11ec-96e1-f8bc12505841\n",
      "9291     dfff3457-cd3d-11ec-96e1-f8bc12505841\n",
      "9550     581a32e9-e0b4-11ec-96e1-f8bc12505841\n",
      "9661     a0b20673-da96-11ec-96e1-f8bc12505841\n",
      "9714     8c44dca6-5532-11ed-96e8-f8bc12505841\n",
      "9715     221cf746-5532-11ed-96e8-f8bc12505841\n",
      "10084    402d3365-ce0a-11ed-96ee-f8bc12505841\n",
      "10320    a864a76a-79fa-11ed-96ea-f8bc12505841\n",
      "10426    eda061b0-9bf0-11ed-96ea-f8bc12505841\n",
      "10429    e4fe0221-9bf0-11ed-96ea-f8bc12505841\n",
      "10637    38d2d61a-4935-11ec-96dd-f8bc12505841\n",
      "10940    89fcf386-7a1a-11ed-96ea-f8bc12505841\n",
      "11128    73b83c07-34fc-11ed-96e6-f8bc12505841\n",
      "11459    25a876c2-3b2a-11ed-96e6-f8bc12505841\n",
      "11464    b3bf1437-3b29-11ed-96e6-f8bc12505841\n",
      "11974    3b7724f1-4ac3-11ed-96e6-f8bc12505841\n",
      "11985    d60d5771-fb9e-11ec-96e4-f8bc12505841\n",
      "12123    99cb6d28-fe95-11ec-96e4-f8bc12505841\n",
      "12164    c5a32330-fb66-11ec-96e4-f8bc12505841\n",
      "12246    aa084e16-d6b4-11ec-96e1-f8bc12505841\n",
      "Name: id_path, dtype: object\n"
     ]
    }
   ],
   "source": [
    "print(raw_data['description'].isna().value_counts())\n",
    "print(raw_data[raw_data['description'].isna()]['id_path'])\n",
    "raw_data = raw_data.dropna(subset=['description'])"
   ]
  },
  {
   "cell_type": "markdown",
   "metadata": {},
   "source": [
    "Объединяем в один текстовый признак название, производителя и описание"
   ]
  },
  {
   "cell_type": "code",
   "execution_count": 21,
   "metadata": {},
   "outputs": [],
   "source": [
    "raw_data['text'] = raw_data['concat_str'] + ' ' + raw_data['description']"
   ]
  },
  {
   "cell_type": "markdown",
   "metadata": {},
   "source": [
    "Энкодируем таргет"
   ]
  },
  {
   "cell_type": "code",
   "execution_count": 22,
   "metadata": {},
   "outputs": [],
   "source": [
    "\n",
    "raw_data['TNVED_encoded'] = LabelEncoder().fit_transform(raw_data['TNVED'])"
   ]
  },
  {
   "cell_type": "markdown",
   "metadata": {},
   "source": [
    "Сохраняем конечный csv для дальнейшего обучения"
   ]
  },
  {
   "cell_type": "code",
   "execution_count": 23,
   "metadata": {},
   "outputs": [],
   "source": [
    "data = raw_data[['text', 'TNVED_encoded']]\n",
    "data.to_csv('./data/data.csv', index=False)"
   ]
  }
 ],
 "metadata": {
  "kernelspec": {
   "display_name": "Python 3",
   "language": "python",
   "name": "python3"
  },
  "language_info": {
   "codemirror_mode": {
    "name": "ipython",
    "version": 3
   },
   "file_extension": ".py",
   "mimetype": "text/x-python",
   "name": "python",
   "nbconvert_exporter": "python",
   "pygments_lexer": "ipython3",
   "version": "3.12.2"
  }
 },
 "nbformat": 4,
 "nbformat_minor": 2
}
